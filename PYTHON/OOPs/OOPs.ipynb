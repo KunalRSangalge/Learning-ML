{
 "cells": [
  {
   "cell_type": "code",
   "execution_count": 1,
   "id": "126da3d5",
   "metadata": {},
   "outputs": [
    {
     "name": "stdout",
     "output_type": "stream",
     "text": [
      "<class '__main__.car'>\n",
      "<__main__.car object at 0x00000187300BC4F0>\n"
     ]
    }
   ],
   "source": [
    "class car:\n",
    "    pass\n",
    "audi = car()\n",
    "bmw = car()\n",
    "print(car)\n",
    "print(audi)"
   ]
  },
  {
   "cell_type": "code",
   "execution_count": 4,
   "id": "c78b41ea",
   "metadata": {},
   "outputs": [
    {
     "name": "stdout",
     "output_type": "stream",
     "text": [
      "kunal 20\n",
      "my name is kunal\n"
     ]
    }
   ],
   "source": [
    "class student:\n",
    "    #constructor\n",
    "    def __init__(self,name,age):\n",
    "        self.name = name\n",
    "        self.age = age\n",
    "    #methods\n",
    "    def some_function(self):\n",
    "        print(f\"my name is {self.name}\")\n",
    "kunal = student(\"kunal\",20)\n",
    "print(kunal.name,kunal.age) \n",
    "kunal.some_function()"
   ]
  },
  {
   "cell_type": "code",
   "execution_count": 6,
   "id": "e0acef5a",
   "metadata": {},
   "outputs": [
    {
     "name": "stdout",
     "output_type": "stream",
     "text": [
      "hi im kunal, my age is 239\n",
      "<__main__.person object at 0x00000296E5195540>\n"
     ]
    }
   ],
   "source": [
    "class person:\n",
    "    def __init__(self,name,age):\n",
    "        self.name=name\n",
    "        self.age=age\n",
    "    def __str__(self):\n",
    "        return f\"hi im {self.name}, my age is {self.age}\"\n",
    "kunal = person(\"kunal\",239)\n",
    "print(kunal.__str__())\n",
    "print(kunal.__repr__())\n",
    "        "
   ]
  },
  {
   "cell_type": "code",
   "execution_count": null,
   "id": "7bb0661a",
   "metadata": {},
   "outputs": [],
   "source": []
  }
 ],
 "metadata": {
  "kernelspec": {
   "display_name": "Python 3",
   "language": "python",
   "name": "python3"
  },
  "language_info": {
   "codemirror_mode": {
    "name": "ipython",
    "version": 3
   },
   "file_extension": ".py",
   "mimetype": "text/x-python",
   "name": "python",
   "nbconvert_exporter": "python",
   "pygments_lexer": "ipython3",
   "version": "3.10.0"
  }
 },
 "nbformat": 4,
 "nbformat_minor": 5
}
