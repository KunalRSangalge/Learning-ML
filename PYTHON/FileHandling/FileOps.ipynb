{
 "cells": [
  {
   "cell_type": "code",
   "execution_count": null,
   "id": "9150b58a",
   "metadata": {},
   "outputs": [
    {
     "name": "stdout",
     "output_type": "stream",
     "text": [
      "Hi im Kunal\n",
      "NIT Silchar\n",
      "CSE - 27\n",
      "from bangalore\n"
     ]
    }
   ],
   "source": [
    "with open('example.txt','r')as file:\n",
    "    content = file.read() ## will not create file\n",
    "    print(content)"
   ]
  },
  {
   "cell_type": "code",
   "execution_count": 4,
   "id": "a97fb0e9",
   "metadata": {},
   "outputs": [
    {
     "name": "stdout",
     "output_type": "stream",
     "text": [
      "Hi im Kunal\n",
      "NIT Silchar\n",
      "CSE - 27\n",
      "from bangalore\n"
     ]
    }
   ],
   "source": [
    "with open('example.txt','r')as file:\n",
    "    for line in file:\n",
    "        print(line.strip())"
   ]
  },
  {
   "cell_type": "code",
   "execution_count": 6,
   "id": "0e9dc78b",
   "metadata": {},
   "outputs": [],
   "source": [
    "##writing directly will overwrite the file\n",
    "with open('example.txt','w') as file:\n",
    "    file.write('hi \\n')\n",
    "    file.write('im kunal')"
   ]
  },
  {
   "cell_type": "code",
   "execution_count": null,
   "id": "ebc8a199",
   "metadata": {},
   "outputs": [],
   "source": [
    "# appending to a file\n",
    "with open('example.txt','a')as file:\n",
    "    file.write('\\nnew line got appended')"
   ]
  },
  {
   "cell_type": "code",
   "execution_count": 9,
   "id": "141458e0",
   "metadata": {},
   "outputs": [],
   "source": [
    "#writing a list of lines\n",
    "lines = ['line 1 \\n','line 2 \\n','line 3 \\n']\n",
    "with open('example.txt','a') as file:\n",
    "    file.writelines(lines)\n"
   ]
  },
  {
   "cell_type": "code",
   "execution_count": 11,
   "id": "e21781a5",
   "metadata": {},
   "outputs": [
    {
     "name": "stdout",
     "output_type": "stream",
     "text": [
      "lines: 6, chars: 81, words: 16\n"
     ]
    }
   ],
   "source": [
    "\n",
    "with open('example.txt','r') as file:\n",
    "    content = file.readlines()\n",
    "    lines = len(content)\n",
    "    chars = sum(len(line) for line in content)\n",
    "    words = sum(len(line.split()) for line in content) \n",
    "\n",
    "print(f'lines: {lines}, chars: {chars}, words: {words}')"
   ]
  },
  {
   "cell_type": "code",
   "execution_count": null,
   "id": "c0e328eb",
   "metadata": {},
   "outputs": [
    {
     "name": "stdout",
     "output_type": "stream",
     "text": [
      "d:\\Learning_ML\\PYTHON\\Basic\\example.txt\n"
     ]
    }
   ],
   "source": [
    "import os\n",
    "dir_name = 'basic'\n",
    "file_name = 'example.txt'\n",
    "full_path = os.path.join(os.getcwd(),file_name)\n",
    "print(full_path)"
   ]
  },
  {
   "cell_type": "code",
   "execution_count": 15,
   "id": "26b78e91",
   "metadata": {},
   "outputs": [
    {
     "name": "stdout",
     "output_type": "stream",
     "text": [
      "yes the path d:\\Learning_ML\\PYTHON\\Basic\\example.txt exists\n"
     ]
    }
   ],
   "source": [
    "if os.path.exists(full_path):\n",
    "    print(f\"yes the path {full_path} exists\")"
   ]
  },
  {
   "cell_type": "code",
   "execution_count": 2,
   "id": "bc628f45",
   "metadata": {},
   "outputs": [
    {
     "name": "stdout",
     "output_type": "stream",
     "text": [
      "d:\\Learning_ML\\PYTHON\\FileHandling\\example.txt\n"
     ]
    }
   ],
   "source": [
    "import os\n",
    "print(os.path.abspath('example.txt'))"
   ]
  },
  {
   "cell_type": "code",
   "execution_count": 2,
   "id": "aed20d92",
   "metadata": {},
   "outputs": [
    {
     "name": "stdout",
     "output_type": "stream",
     "text": [
      "error\n"
     ]
    }
   ],
   "source": [
    "try:\n",
    "    num = 10\n",
    "    num/=0\n",
    "except ZeroDivisionError:\n",
    "    print('error')"
   ]
  },
  {
   "cell_type": "code",
   "execution_count": null,
   "id": "32d00da1",
   "metadata": {},
   "outputs": [],
   "source": []
  }
 ],
 "metadata": {
  "kernelspec": {
   "display_name": "Python 3",
   "language": "python",
   "name": "python3"
  },
  "language_info": {
   "codemirror_mode": {
    "name": "ipython",
    "version": 3
   },
   "file_extension": ".py",
   "mimetype": "text/x-python",
   "name": "python",
   "nbconvert_exporter": "python",
   "pygments_lexer": "ipython3",
   "version": "3.10.0"
  }
 },
 "nbformat": 4,
 "nbformat_minor": 5
}
