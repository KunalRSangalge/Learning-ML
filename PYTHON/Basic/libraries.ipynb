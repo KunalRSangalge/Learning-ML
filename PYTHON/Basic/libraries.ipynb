{
 "cells": [
  {
   "cell_type": "code",
   "execution_count": 4,
   "id": "3d6669db",
   "metadata": {},
   "outputs": [
    {
     "name": "stdout",
     "output_type": "stream",
     "text": [
      "2025-06-22 18:02:55.538704\n"
     ]
    }
   ],
   "source": [
    "import datetime\n",
    "print(datetime.datetime.now())\n",
    "\n"
   ]
  },
  {
   "cell_type": "code",
   "execution_count": 6,
   "id": "603a2da1",
   "metadata": {},
   "outputs": [
    {
     "name": "stdout",
     "output_type": "stream",
     "text": [
      "['Name', 'Age', 'roll']\n",
      "['Kunal', '39', '2']\n"
     ]
    }
   ],
   "source": [
    "import csv\n",
    "with open ('test.csv','w',newline='') as file:\n",
    "    writer = csv.writer(file)\n",
    "    writer.writerow(['Name','Age','roll'])\n",
    "    writer.writerow(['Kunal',39,2])\n",
    "\n",
    "with open ( 'test.csv','r') as file:\n",
    "    reader = csv.reader(file)\n",
    "    for row in reader:\n",
    "        print(row)"
   ]
  },
  {
   "cell_type": "code",
   "execution_count": 7,
   "id": "851603e0",
   "metadata": {},
   "outputs": [
    {
     "data": {
      "text/plain": [
       "'destination.csv'"
      ]
     },
     "execution_count": 7,
     "metadata": {},
     "output_type": "execute_result"
    }
   ],
   "source": [
    "import os\n",
    "import shutil\n",
    "shutil.copyfile('test.csv','destination.csv')"
   ]
  },
  {
   "cell_type": "code",
   "execution_count": 8,
   "id": "daf4ed4a",
   "metadata": {},
   "outputs": [
    {
     "name": "stdout",
     "output_type": "stream",
     "text": [
      "{\"name\": \"kunal\", \"age\": 39, \"roll\": 33}\n",
      "<class 'str'>\n",
      "{'name': 'kunal', 'age': 39, 'roll': 33}\n",
      "<class 'dict'>\n"
     ]
    }
   ],
   "source": [
    "###data serialization\n",
    "import json\n",
    "data = {'name':'kunal','age':39,'roll':33}\n",
    "json_str = json.dumps(data)\n",
    "print(json_str)\n",
    "print(type(json_str))\n",
    "\n",
    "data = json.loads(json_str)\n",
    "print(data)\n",
    "print(type(data))"
   ]
  },
  {
   "cell_type": "code",
   "execution_count": 10,
   "id": "52836e19",
   "metadata": {},
   "outputs": [
    {
     "name": "stdout",
     "output_type": "stream",
     "text": [
      "163\n",
      "b\n"
     ]
    }
   ],
   "source": [
    "import random\n",
    "print(random.randint(1,200))\n",
    "print(random.choice(['a','b','v']))"
   ]
  },
  {
   "cell_type": "code",
   "execution_count": null,
   "id": "f8013abf",
   "metadata": {},
   "outputs": [],
   "source": []
  }
 ],
 "metadata": {
  "kernelspec": {
   "display_name": "Python 3",
   "language": "python",
   "name": "python3"
  },
  "language_info": {
   "codemirror_mode": {
    "name": "ipython",
    "version": 3
   },
   "file_extension": ".py",
   "mimetype": "text/x-python",
   "name": "python",
   "nbconvert_exporter": "python",
   "pygments_lexer": "ipython3",
   "version": "3.10.0"
  }
 },
 "nbformat": 4,
 "nbformat_minor": 5
}
