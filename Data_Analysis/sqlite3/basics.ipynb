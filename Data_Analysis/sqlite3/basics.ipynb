{
 "cells": [
  {
   "cell_type": "code",
   "execution_count": 2,
   "id": "80b4fa1c",
   "metadata": {},
   "outputs": [],
   "source": [
    "import sqlite3\n",
    "connection = sqlite3.connect('example.db')\n",
    "cursor = connection.cursor()"
   ]
  },
  {
   "cell_type": "code",
   "execution_count": 3,
   "id": "1474b87a",
   "metadata": {},
   "outputs": [],
   "source": [
    "cursor.execute(\n",
    "'''\n",
    "Create Table If Not Exists Employee(\n",
    "    id Integer Primary Key,\n",
    "    name Text Not Null,\n",
    "    age Integer,\n",
    "    dept Text\n",
    "    )\n",
    "'''\n",
    ")\n",
    "connection.commit()"
   ]
  },
  {
   "cell_type": "code",
   "execution_count": 9,
   "id": "0c8ca297",
   "metadata": {},
   "outputs": [
    {
     "data": {
      "text/plain": [
       "<sqlite3.Cursor at 0x2057f74f740>"
      ]
     },
     "execution_count": 9,
     "metadata": {},
     "output_type": "execute_result"
    }
   ],
   "source": [
    "cursor.execute(\n",
    "'''\n",
    "INSERT INTO Employee(id,name,age,dept)\n",
    "VALUES (29,'titu',20,'CSE')\n",
    "'''\n",
    ")\n",
    "# cursor.execute(\n",
    "# '''\n",
    "# INSERT INTO Employee(id,name,age,dept)\n",
    "# VALUES (25,'paras',20,'EIE')\n",
    "# '''\n",
    "# )"
   ]
  },
  {
   "cell_type": "code",
   "execution_count": 10,
   "id": "32099ae9",
   "metadata": {},
   "outputs": [
    {
     "data": {
      "text/plain": [
       "[(23, 'Kunal', 20, 'CSE'), (29, 'titu', 20, 'CSE')]"
      ]
     },
     "execution_count": 10,
     "metadata": {},
     "output_type": "execute_result"
    }
   ],
   "source": [
    "cursor.execute(\n",
    "'''\n",
    "Select * from Employee\n",
    "'''\n",
    ")\n",
    "cursor.fetchall()"
   ]
  },
  {
   "cell_type": "code",
   "execution_count": 12,
   "id": "5cdf9a98",
   "metadata": {},
   "outputs": [
    {
     "data": {
      "text/plain": [
       "<sqlite3.Cursor at 0x2057f74f740>"
      ]
     },
     "execution_count": 12,
     "metadata": {},
     "output_type": "execute_result"
    }
   ],
   "source": [
    "data = [\n",
    "    (30,'fdfa',23,'daf'),\n",
    "    (299,'2323',423,'34242')\n",
    "]\n",
    "cursor.executemany(\n",
    "'''\n",
    "Insert INTO Employee(id,name,age,dept)\n",
    "VALUES(?,?,?,?)\n",
    "''',\n",
    "data\n",
    ")"
   ]
  },
  {
   "cell_type": "code",
   "execution_count": 14,
   "id": "6961b3bc",
   "metadata": {},
   "outputs": [
    {
     "data": {
      "text/plain": [
       "[(23, 'Kunal', 20, 'CSE'),\n",
       " (29, 'titu', 20, 'CSE'),\n",
       " (30, 'fdfa', 23, 'daf'),\n",
       " (299, '2323', 423, '34242')]"
      ]
     },
     "execution_count": 14,
     "metadata": {},
     "output_type": "execute_result"
    }
   ],
   "source": [
    "cursor.execute('''SELECT * FROM Employee''')\n",
    "cursor.fetchall()"
   ]
  },
  {
   "cell_type": "code",
   "execution_count": 15,
   "id": "91776794",
   "metadata": {},
   "outputs": [],
   "source": [
    "connection.commit()"
   ]
  },
  {
   "cell_type": "code",
   "execution_count": 24,
   "id": "7dc859d1",
   "metadata": {},
   "outputs": [
    {
     "name": "stdout",
     "output_type": "stream",
     "text": [
      "(23, 'Kunal', 20, 'CSE')\n",
      "(29, 'titu', 20, 'CSE')\n",
      "(30, 'fdfa', 50, 'daf')\n",
      "(299, '2323', 423, '34242')\n"
     ]
    }
   ],
   "source": [
    "#update\n",
    "cursor.execute(\n",
    "'''\n",
    "UPDATE Employee \n",
    "SET age = 50 \n",
    "WHERE name = \"fdfa\"\n",
    "'''\n",
    ")\n",
    "connection.commit()\n",
    "cursor.execute('SELECT * FROM Employee')\n",
    "rows = cursor.fetchall()\n",
    "for row in rows:\n",
    "    print(row)"
   ]
  },
  {
   "cell_type": "code",
   "execution_count": 25,
   "id": "34391cf4",
   "metadata": {},
   "outputs": [
    {
     "name": "stdout",
     "output_type": "stream",
     "text": [
      "(23, 'Kunal', 20, 'CSE')\n",
      "(29, 'titu', 20, 'CSE')\n",
      "(299, '2323', 423, '34242')\n"
     ]
    }
   ],
   "source": [
    "#delete\n",
    "cursor.execute(\n",
    "'''\n",
    "DELETE FROM Employee\n",
    "WHERE name = \"fdfa\"\n",
    "'''\n",
    ")\n",
    "connection.commit()\n",
    "cursor.execute('SELECT * FROM Employee')\n",
    "rows = cursor.fetchall()\n",
    "for row in rows:\n",
    "    print(row)"
   ]
  },
  {
   "cell_type": "code",
   "execution_count": 30,
   "id": "cb04de56",
   "metadata": {},
   "outputs": [],
   "source": [
    "#new table\n",
    "new_connection = sqlite3.connect('sales.db')\n",
    "new_cursor = connection.cursor()\n",
    "new_cursor.execute(\n",
    "'''\n",
    "CREATE TABLE IF NOT EXISTS Sales(\n",
    "    id INTEGER PRIMARY KEY,\n",
    "    date TEXT NOT NULL,\n",
    "    product TEXT NOT NULL,\n",
    "    sales INTEGER,\n",
    "    region TEXT\n",
    ")\n",
    "'''\n",
    ")\n",
    "connection.commit()"
   ]
  },
  {
   "cell_type": "code",
   "execution_count": null,
   "id": "03d5bb27",
   "metadata": {},
   "outputs": [],
   "source": [
    "sales_data = [\n",
    "    (100,'30-01-2003','pqdhffe',399323,'north'),\n",
    "    (101,'29-09-2993','dhadjfa',232,'east'),\n",
    "    (102,'20-09-3393','shfafha',2323,'north'),\n",
    "    (103,'01-12-3232','sahfafasf',23423,'west'),\n",
    "    (104,'20-12-3423','fafbalf',23412,'south')\n",
    "]\n",
    "new_cursor.executemany(\n",
    "'''\n",
    "INSERT INTO Sales\n",
    "VALUES(?,?,?,?,?)\n",
    "''',\n",
    "sales_data\n",
    ")\n",
    "new_connection.commit()\n"
   ]
  },
  {
   "cell_type": "code",
   "execution_count": 37,
   "id": "38256c06",
   "metadata": {},
   "outputs": [
    {
     "data": {
      "text/plain": [
       "[(100, '30-01-2003', 'pqdhffe', 399323, 'north'),\n",
       " (101, '29-09-2993', 'dhadjfa', 232, 'east'),\n",
       " (102, '20-09-3393', 'shfafha', 2323, 'north'),\n",
       " (103, '01-12-3232', 'sahfafasf', 23423, 'west'),\n",
       " (104, '20-12-3423', 'fafbalf', 23412, 'south')]"
      ]
     },
     "execution_count": 37,
     "metadata": {},
     "output_type": "execute_result"
    }
   ],
   "source": [
    "new_cursor.execute('SELECT * FROM Sales')\n",
    "new_cursor.fetchall()"
   ]
  },
  {
   "cell_type": "code",
   "execution_count": 38,
   "id": "2ed1378c",
   "metadata": {},
   "outputs": [],
   "source": [
    "#relation & foreign keys\n",
    "query = (\n",
    "'''\n",
    "CREATE TABLE Doctor(\n",
    "    id INTEGER PRIMARY KEY,\n",
    "    name TEXT NOT NULL,\n",
    "    phoneno INTEGER,\n",
    "    type TEXT\n",
    ")\n",
    "'''\n",
    ")\n",
    "cursor.execute(query)\n",
    "connection.commit()"
   ]
  },
  {
   "cell_type": "code",
   "execution_count": 39,
   "id": "1602750a",
   "metadata": {},
   "outputs": [],
   "source": [
    "query = (\n",
    "''' \n",
    "CREATE TABLE Patients(\n",
    "    id INTEGER PRIMARY KEY,\n",
    "    name TEXT NOT NULL,\n",
    "    email TEXT,\n",
    "    phone INTEGER,\n",
    "    problem TEXT,\n",
    "    doc_id INTEGER NOT NULL,\n",
    "    FOREIGN KEY(doc_id) REFERENCES Doctor(id)\n",
    ")\n",
    "'''\n",
    ")\n",
    "cursor.execute(query)\n",
    "connection.commit()"
   ]
  },
  {
   "cell_type": "code",
   "execution_count": 40,
   "id": "5c6f46e4",
   "metadata": {},
   "outputs": [],
   "source": [
    "doc_data = [\n",
    "    (1,'john',24234242,'32ggdfs'),\n",
    "    (2,'sfsdgs',3423423,'sdgsgsdf'),\n",
    "    (3,'fgsfgs',32423,'fdsfbd'),\n",
    "    (4,'gfgsdfgs',345345,'dfsggs')\n",
    "]\n",
    "patient_data = [\n",
    "    (1,'gsgsg','ewgwergw',234234,'wertewtwe',1),\n",
    "    (2,'regwerg','wrhwe e',23423,'eeffdsfverg',4),\n",
    "    (3,'egergwe','gwgwergwg',34243242,'wegewrgwe',3),\n",
    "    (4,'gwegwerg','ewgwergwe',3423423,'werferb',2)\n",
    "]\n",
    "cursor.executemany(\n",
    "'''\n",
    "INSERT INTO Doctor\n",
    "VALUES(?,?,?,?)\n",
    "''',doc_data\n",
    ")\n",
    "cursor.executemany(\n",
    "'''\n",
    "INSERT INTO Patients\n",
    "VALUES(?,?,?,?,?,?)\n",
    "''',patient_data\n",
    ")\n",
    "connection.commit()"
   ]
  },
  {
   "cell_type": "code",
   "execution_count": 41,
   "id": "9c502ac6",
   "metadata": {},
   "outputs": [
    {
     "data": {
      "text/plain": [
       "[(1, 'john', 24234242, '32ggdfs'),\n",
       " (2, 'sfsdgs', 3423423, 'sdgsgsdf'),\n",
       " (3, 'fgsfgs', 32423, 'fdsfbd'),\n",
       " (4, 'gfgsdfgs', 345345, 'dfsggs')]"
      ]
     },
     "execution_count": 41,
     "metadata": {},
     "output_type": "execute_result"
    }
   ],
   "source": [
    "cursor.execute('Select * from Doctor')\n",
    "cursor.fetchall()"
   ]
  },
  {
   "cell_type": "code",
   "execution_count": 42,
   "id": "8872c52c",
   "metadata": {},
   "outputs": [
    {
     "data": {
      "text/plain": [
       "[(1, 'gsgsg', 'ewgwergw', 234234, 'wertewtwe', 1),\n",
       " (2, 'regwerg', 'wrhwe e', 23423, 'eeffdsfverg', 4),\n",
       " (3, 'egergwe', 'gwgwergwg', 34243242, 'wegewrgwe', 3),\n",
       " (4, 'gwegwerg', 'ewgwergwe', 3423423, 'werferb', 2)]"
      ]
     },
     "execution_count": 42,
     "metadata": {},
     "output_type": "execute_result"
    }
   ],
   "source": [
    "cursor.execute('select * from Patients')\n",
    "cursor.fetchall()"
   ]
  },
  {
   "cell_type": "code",
   "execution_count": null,
   "id": "109f6d60",
   "metadata": {},
   "outputs": [
    {
     "data": {
      "text/plain": [
       "<sqlite3.Cursor at 0x2057f7ae9c0>"
      ]
     },
     "execution_count": 43,
     "metadata": {},
     "output_type": "execute_result"
    }
   ],
   "source": [
    "connection.execute(\"PRAGMA foreign_keys = ON\")\n",
    "cursor.execute('select ')"
   ]
  },
  {
   "cell_type": "code",
   "execution_count": 44,
   "id": "f08753ea",
   "metadata": {},
   "outputs": [
    {
     "name": "stdout",
     "output_type": "stream",
     "text": [
      "(1, 'john', 24234242, '32ggdfs')\n",
      "(4, 'gfgsdfgs', 345345, 'dfsggs')\n"
     ]
    }
   ],
   "source": [
    "cursor.execute('''\n",
    "SELECT DISTINCT Doctor.*\n",
    "FROM Doctor\n",
    "JOIN Patients ON Doctor.id = Patients.doc_id\n",
    "WHERE Patients.id IN (1, 2)\n",
    "''')\n",
    "\n",
    "# Fetch and print results\n",
    "results = cursor.fetchall()\n",
    "for row in results:\n",
    "    print(row)"
   ]
  },
  {
   "cell_type": "code",
   "execution_count": 45,
   "id": "b5b79a91",
   "metadata": {},
   "outputs": [],
   "source": [
    "connection.close()"
   ]
  },
  {
   "cell_type": "code",
   "execution_count": null,
   "id": "04c1d11c",
   "metadata": {},
   "outputs": [],
   "source": []
  }
 ],
 "metadata": {
  "kernelspec": {
   "display_name": "Python 3",
   "language": "python",
   "name": "python3"
  },
  "language_info": {
   "codemirror_mode": {
    "name": "ipython",
    "version": 3
   },
   "file_extension": ".py",
   "mimetype": "text/x-python",
   "name": "python",
   "nbconvert_exporter": "python",
   "pygments_lexer": "ipython3",
   "version": "3.10.0"
  }
 },
 "nbformat": 4,
 "nbformat_minor": 5
}
