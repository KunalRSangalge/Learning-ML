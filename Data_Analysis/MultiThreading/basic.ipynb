{
 "cells": [
  {
   "cell_type": "code",
   "execution_count": 11,
   "id": "18be1c7e",
   "metadata": {},
   "outputs": [
    {
     "name": "stdout",
     "output_type": "stream",
     "text": [
      "letter: a\n",
      "Number: 0\n",
      "letter: d\n",
      "Number: 1\n",
      "letter: fNumber: 2\n",
      "\n",
      "Number: 3letter: x\n",
      "\n",
      "Number: 4letter: h\n",
      "\n",
      "10.077377557754517\n"
     ]
    }
   ],
   "source": [
    "import threading\n",
    "import time\n",
    "def print_numbers():\n",
    "    for i in range(5):\n",
    "        time.sleep(2)\n",
    "        print(f\"Number: {i}\")\n",
    "\n",
    "def print_letters():\n",
    "    for letter in \"adfxh\":\n",
    "        time.sleep(2)\n",
    "        print(f\"letter: {letter}\")\n",
    "\n",
    "##create threads\n",
    "t1 = threading.Thread(target=print_letters)\n",
    "t2 = threading.Thread(target=print_numbers)\n",
    "start = time.time()\n",
    "t1.start()\n",
    "t2.start()\n",
    "\n",
    "##join after finish\n",
    "t1.join()\n",
    "t2.join()\n",
    "end = time.time()\n",
    "print(end-start)"
   ]
  },
  {
   "cell_type": "code",
   "execution_count": 14,
   "id": "dc78e39a",
   "metadata": {},
   "outputs": [
    {
     "name": "stdout",
     "output_type": "stream",
     "text": [
      "0.8204319477081299\n"
     ]
    }
   ],
   "source": [
    "import multiprocessing\n",
    "\n",
    "if __name__ == \"__main__\":\n",
    "    def square():\n",
    "        for i in range(4):\n",
    "            time.sleep(2)\n",
    "            print(i*i)\n",
    "\n",
    "    def cube():\n",
    "        for i in range(5):\n",
    "            time.sleep(1.5)\n",
    "            print(i*i*i)\n",
    "\n",
    "    p1 = multiprocessing.Process(target=square)\n",
    "    p2 = multiprocessing.Process(target=cube)\n",
    "\n",
    "    start = time.time()\n",
    "    p1.start()\n",
    "    p2.start()\n",
    "\n",
    "    p1.join()\n",
    "    p2.join()\n",
    "\n",
    "    end = time.time()\n",
    "    print(end-start)"
   ]
  },
  {
   "cell_type": "code",
   "execution_count": null,
   "id": "69ce4ac3",
   "metadata": {},
   "outputs": [],
   "source": []
  }
 ],
 "metadata": {
  "kernelspec": {
   "display_name": "Python 3",
   "language": "python",
   "name": "python3"
  },
  "language_info": {
   "codemirror_mode": {
    "name": "ipython",
    "version": 3
   },
   "file_extension": ".py",
   "mimetype": "text/x-python",
   "name": "python",
   "nbconvert_exporter": "python",
   "pygments_lexer": "ipython3",
   "version": "3.10.0"
  }
 },
 "nbformat": 4,
 "nbformat_minor": 5
}
