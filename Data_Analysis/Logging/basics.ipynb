{
 "cells": [
  {
   "cell_type": "code",
   "execution_count": 3,
   "id": "e28c074b",
   "metadata": {},
   "outputs": [
    {
     "name": "stderr",
     "output_type": "stream",
     "text": [
      "DEBUG:root:This is debug message\n",
      "ERROR:root:this is error message\n",
      "WARNING:root:This is warning msg\n",
      "CRITICAL:root:this is critical msg\n",
      "INFO:root:this is info msg\n"
     ]
    }
   ],
   "source": [
    "import logging\n",
    "\n",
    "#basic configurations\n",
    "logging.basicConfig(level=logging.DEBUG)\n",
    "\n",
    "#log messages based on different severity levels\n",
    "logging.debug(\"This is debug message\")\n",
    "logging.error(\"this is error message\")\n",
    "logging.warning(\"This is warning msg\")\n",
    "logging.critical(\"this is critical msg\")\n",
    "logging.info(\"this is info msg\")"
   ]
  },
  {
   "cell_type": "code",
   "execution_count": 1,
   "id": "61f175e1",
   "metadata": {},
   "outputs": [],
   "source": [
    "import logging\n",
    "\n",
    "#basic configurations\n",
    "logging.basicConfig(\n",
    "    filename='app.log',\n",
    "    filemode='w',\n",
    "    level=logging.DEBUG,\n",
    "    format='%(asctime)s-%(name)s-%(levelname)s-%(message)s',\n",
    "    datefmt='%Y-%m-%d %H:%M:%S'\n",
    ")\n",
    "#log messages based on different severity levels\n",
    "logging.debug(\"This is debug message\")\n",
    "logging.error(\"this is error message\")\n",
    "logging.warning(\"This is warning msg\")\n",
    "logging.critical(\"this is critical msg\")\n",
    "logging.info(\"this is info msg\")"
   ]
  },
  {
   "cell_type": "code",
   "execution_count": 2,
   "id": "81ad7da8",
   "metadata": {},
   "outputs": [],
   "source": [
    "logging.debug(\"This is debug message\")\n",
    "logging.error(\"this is error message\")\n",
    "logging.warning(\"This is warning msg\")\n",
    "logging.critical(\"this is critical msg\")\n",
    "logging.info(\"this is info msg\")"
   ]
  },
  {
   "cell_type": "code",
   "execution_count": null,
   "id": "14e51434",
   "metadata": {},
   "outputs": [],
   "source": []
  }
 ],
 "metadata": {
  "kernelspec": {
   "display_name": "Python 3",
   "language": "python",
   "name": "python3"
  },
  "language_info": {
   "codemirror_mode": {
    "name": "ipython",
    "version": 3
   },
   "file_extension": ".py",
   "mimetype": "text/x-python",
   "name": "python",
   "nbconvert_exporter": "python",
   "pygments_lexer": "ipython3",
   "version": "3.10.0"
  }
 },
 "nbformat": 4,
 "nbformat_minor": 5
}
