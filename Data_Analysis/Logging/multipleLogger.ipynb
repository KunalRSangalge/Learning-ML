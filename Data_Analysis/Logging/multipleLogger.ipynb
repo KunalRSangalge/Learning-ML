{
 "cells": [
  {
   "cell_type": "code",
   "execution_count": 1,
   "id": "7779521e",
   "metadata": {},
   "outputs": [
    {
     "name": "stderr",
     "output_type": "stream",
     "text": [
      "2025-07-05 17:38:21 - module1 - DEBUG - this is debug msg for module1\n",
      "2025-07-05 17:38:21 - module2 - WARNING - this is warning for module2\n"
     ]
    }
   ],
   "source": [
    "import logging\n",
    "\n",
    "# Setup root logger\n",
    "logging.basicConfig(\n",
    "    level=logging.DEBUG,\n",
    "    format='%(asctime)s - %(name)s - %(levelname)s - %(message)s',\n",
    "    datefmt='%Y-%m-%d %H:%M:%S'\n",
    ")\n",
    "\n",
    "# Now create your module-specific loggers\n",
    "logger1 = logging.getLogger(\"module1\")\n",
    "logger1.setLevel(logging.DEBUG)\n",
    "\n",
    "logger2 = logging.getLogger(\"module2\")\n",
    "logger2.setLevel(logging.WARNING)\n",
    "\n",
    "# Test logs\n",
    "logger1.debug(\"this is debug msg for module1\")\n",
    "logger2.warning(\"this is warning for module2\")"
   ]
  },
  {
   "cell_type": "code",
   "execution_count": 2,
   "id": "8a0a1878",
   "metadata": {},
   "outputs": [
    {
     "name": "stderr",
     "output_type": "stream",
     "text": [
      "2025-07-05 17:38:24 - module1 - DEBUG - this is debug msg for module1\n",
      "2025-07-05 17:38:24 - module2 - WARNING - this is for module2\n"
     ]
    }
   ],
   "source": [
    "logger1.debug(\"this is debug msg for module1\")\n",
    "logger2.warning(\"this is for module2\")"
   ]
  },
  {
   "cell_type": "code",
   "execution_count": null,
   "id": "36b8daae",
   "metadata": {},
   "outputs": [],
   "source": []
  }
 ],
 "metadata": {
  "kernelspec": {
   "display_name": "Python 3",
   "language": "python",
   "name": "python3"
  },
  "language_info": {
   "codemirror_mode": {
    "name": "ipython",
    "version": 3
   },
   "file_extension": ".py",
   "mimetype": "text/x-python",
   "name": "python",
   "nbconvert_exporter": "python",
   "pygments_lexer": "ipython3",
   "version": "3.10.0"
  }
 },
 "nbformat": 4,
 "nbformat_minor": 5
}
