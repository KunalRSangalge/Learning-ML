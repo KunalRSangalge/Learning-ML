{
 "cells": [
  {
   "cell_type": "code",
   "execution_count": null,
   "id": "270327f2",
   "metadata": {},
   "outputs": [
    {
     "data": {
      "text/plain": [
       "'\\nwhile getting data from web we will extract stu\\n'"
      ]
     },
     "execution_count": 1,
     "metadata": {},
     "output_type": "execute_result"
    }
   ],
   "source": [
    "'''\n",
    "while getting data from web we will extract stuff like emojis and text in different languages\n",
    "these cannot be stored in ASCII so , while writing file use 'utf-8' encoding to read and write these unique charecters\n",
    "UTF : Unicode Transformation Format\n",
    "'''\n",
    "with open('fs.txt','w',encoding='utf-8') as f:\n",
    "    f.write('hgs')"
   ]
  },
  {
   "cell_type": "code",
   "execution_count": null,
   "id": "3decefa2",
   "metadata": {},
   "outputs": [],
   "source": []
  }
 ],
 "metadata": {
  "kernelspec": {
   "display_name": "Python 3",
   "language": "python",
   "name": "python3"
  },
  "language_info": {
   "codemirror_mode": {
    "name": "ipython",
    "version": 3
   },
   "file_extension": ".py",
   "mimetype": "text/x-python",
   "name": "python",
   "nbconvert_exporter": "python",
   "pygments_lexer": "ipython3",
   "version": "3.10.0"
  }
 },
 "nbformat": 4,
 "nbformat_minor": 5
}
